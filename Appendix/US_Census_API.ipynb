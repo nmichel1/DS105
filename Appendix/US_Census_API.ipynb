{
 "cells": [
  {
   "cell_type": "code",
   "execution_count": 16,
   "id": "c0596be0",
   "metadata": {},
   "outputs": [],
   "source": [
    "import requests\n",
    "import pandas as pd\n",
    "#To use the US Census API for more than 500 times a day, you need to apply for your own key at https://api.census.gov/data/key_signup.html"
   ]
  },
  {
   "cell_type": "code",
   "execution_count": 27,
   "id": "1d2557a8",
   "metadata": {},
   "outputs": [
    {
     "name": "stdout",
     "output_type": "stream",
     "text": [
      "<Response [200]>\n"
     ]
    }
   ],
   "source": [
    "response1= requests.get('https://api.census.gov/data/timeseries/poverty/saipe?get=SAEMHI_PT,SAEPOVRTALL_PT,NAME&for=state:*&time=2020&key='+'YOUR OWN KEY')\n",
    "print(response1)"
   ]
  },
  {
   "cell_type": "code",
   "execution_count": 130,
   "id": "3a2cbd39",
   "metadata": {},
   "outputs": [],
   "source": [
    "json1=response1.json()\n",
    "df1=pd.DataFrame(json1[1:])\n",
    "df1.columns=json1[0]\n",
    "df1.rename(columns={'SAEMHI_PT':'Median Household Income','SAEPOVRTALL_PT':'All-age Poverty Rate'},inplace=True)\n",
    "df1.set_index('NAME',inplace=True)\n",
    "df1.drop(columns=['time','state'],inplace=True)\n",
    "df1['Median Household Income']=df1['Median Household Income'].astype(str).astype(int)\n",
    "df1['All-age Poverty Rate']=df1['All-age Poverty Rate'].astype(str).astype(float)"
   ]
  },
  {
   "cell_type": "code",
   "execution_count": 120,
   "id": "b665b5bb",
   "metadata": {},
   "outputs": [],
   "source": [
    "response2=requests.get('https://api.census.gov/data/2020/dec/pl?get=P4_001N,P4_002N,P4_005N,P4_006N,P4_007N,P4_008N,P4_009N,P4_010N,P4_011N,NAME&for=state:*&key='+'YOUR OWN KEY')\n",
    "json2=response2.json()\n",
    "df2=pd.DataFrame(json2[1:])\n",
    "df2.columns=json2[0]\n",
    "df2.set_index('NAME',inplace=True)\n",
    "df2.drop(columns=['state'],index=['Puerto Rico'],inplace=True)\n",
    "df2[['P4_001N','P4_002N','P4_005N','P4_006N','P4_007N','P4_008N','P4_009N','P4_010N','P4_011N']]=df2[['P4_001N','P4_002N','P4_005N','P4_006N','P4_007N','P4_008N','P4_009N','P4_010N','P4_011N']].astype(str).astype(int)"
   ]
  },
  {
   "cell_type": "code",
   "execution_count": 136,
   "id": "21330bd0",
   "metadata": {},
   "outputs": [],
   "source": [
    "df3=pd.DataFrame(index=df2.index)\n",
    "df3['Percentage of Hispanic or Latino']=(df2['P4_002N']/df2['P4_001N'])*100\n",
    "df3['Percentage of White']=(df2['P4_005N']/df2['P4_001N'])*100\n",
    "df3['Percentage of Black or African American']=(df2['P4_006N']/df2['P4_001N'])*100\n",
    "df3['Percentage of American Indian and Alaska Native']=(df2['P4_007N']/df2['P4_001N'])*100\n",
    "df3['Percentage of Asian']=(df2['P4_008N']/df2['P4_001N'])*100\n",
    "df3['Percentage of Native Hawaiian and Other Pacific Islander']=(df2['P4_009N']/df2['P4_001N'])*100\n",
    "df3['Percentage of Some Other Race']=(df2['P4_010N']/df2['P4_001N'])*100\n",
    "df3['Percentage of Population of Two or More Race']=(df2['P4_011N']/df2['P4_001N'])*100\n",
    "df3=df3.round(1)#to keep this dataframe's floats in aligned with the other one's."
   ]
  },
  {
   "cell_type": "code",
   "execution_count": 142,
   "id": "0d002bf7",
   "metadata": {},
   "outputs": [],
   "source": [
    "df4=df1.join(df3)\n",
    "#df4.to_csv('US_Poverty_and_Race_Statistics_2020.csv') \n",
    "#Run the above code if you need a csv file output, don't automatically run it"
   ]
  }
 ],
 "metadata": {
  "kernelspec": {
   "display_name": "Python 3 (ipykernel)",
   "language": "python",
   "name": "python3"
  },
  "language_info": {
   "codemirror_mode": {
    "name": "ipython",
    "version": 3
   },
   "file_extension": ".py",
   "mimetype": "text/x-python",
   "name": "python",
   "nbconvert_exporter": "python",
   "pygments_lexer": "ipython3",
   "version": "3.9.12"
  }
 },
 "nbformat": 4,
 "nbformat_minor": 5
}
