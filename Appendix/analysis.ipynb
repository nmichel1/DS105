{
 "cells": [
  {
   "cell_type": "code",
   "execution_count": null,
   "id": "8f38600f",
   "metadata": {},
   "outputs": [],
   "source": [
    "# Data Analysis of 2016 US Elections"
   ]
  },
  {
   "cell_type": "code",
   "execution_count": null,
   "id": "e34aa1ee",
   "metadata": {},
   "outputs": [],
   "source": [
    "# Import packages\n",
    "import sys\n",
    "import pandas as pd\n",
    "import csv\n",
    "import plotly.express as px\n",
    "import requests\n",
    "import pandas as pd\n",
    "from bs4 import BeautifulSoup\n",
    "from uszipcode import SearchEngine, SimpleZipcode\n",
    "import cenpy as cen"
   ]
  },
  {
   "cell_type": "code",
   "execution_count": null,
   "id": "31f36c08",
   "metadata": {},
   "outputs": [],
   "source": [
    "# import the two data sets\n",
    "#\n",
    "# This data set can be scraped from https://www.politico.com/2020-election/results/president/ using selenium\n",
    "df1 = pd.read_csv('US_elections_2020.csv')\n",
    "df1 = df1.drop(df1.columns[[0]], axis=1)\n",
    "#\n",
    "# This data set is for race and poverty percentages\n",
    "df2 = pd.read_csv('US_Poverty_and_Race_Statistics_2020.csv')\n",
    "# \n",
    "# This is number of people present in each state\n",
    "df3 = pd.read_csv('US_states_and_territories.csv')"
   ]
  },
  {
   "cell_type": "code",
   "execution_count": null,
   "id": "c4244dcd",
   "metadata": {
    "scrolled": true
   },
   "outputs": [],
   "source": [
    "# Combine two data sets into one\n",
    "df = df1.join(df2, lsuffix = '_df1', rsuffix = '_df2')\n",
    "df = df.join(df3, lsuffix = '_df', rsuffix = '_df3')\n",
    "df = df.drop(df.columns[[6,17]], axis=1)\n",
    "\n",
    "df11 = df.drop(df.columns[[8,11,12,13,14,15]], axis=1)\n",
    "df11.head(10)"
   ]
  },
  {
   "cell_type": "code",
   "execution_count": null,
   "id": "0052eba1",
   "metadata": {},
   "outputs": [],
   "source": [
    "import seaborn as sn\n",
    "import matplotlib.pyplot as plt\n",
    "\n",
    "df12 = df11.drop(df.columns[[3,5,10]], axis=1)\n",
    "\n",
    "corr_matrix = df12.corr()\n",
    "\n",
    "sn.heatmap(corr_matrix, annot=True)\n",
    "plt.xticks(rotation=25, ha='right')\n",
    "plt.savefig('correlation.png', bbox_inches=\"tight\", dpi=1000)"
   ]
  },
  {
   "cell_type": "code",
   "execution_count": null,
   "id": "a536fd1d",
   "metadata": {
    "scrolled": true
   },
   "outputs": [],
   "source": [
    "import sys\n",
    "# !{sys.executable} -m pip install kaleido\n",
    "import kaleido #required\n",
    "kaleido.__version__ #0.2.1\n",
    "\n",
    "import plotly\n",
    "plotly.__version__ #5.5.0\n",
    "\n",
    "#now this works:\n",
    "import plotly.graph_objects as go"
   ]
  },
  {
   "cell_type": "code",
   "execution_count": null,
   "id": "72a767ae",
   "metadata": {},
   "outputs": [],
   "source": [
    "# Plot showing election results\n",
    "fig = px.choropleth(df, locations='State_code',\n",
    "                            locationmode = 'USA-states',\n",
    "                            scope = 'usa',\n",
    "                            color = 'Biden_percent',\n",
    "                            hover_name = 'state',\n",
    "                            hover_data = ['Trump_votes', 'Biden_votes', 'Trump_percent', 'Biden_percent'],\n",
    "                            range_color = [0, 100],\n",
    "                            color_continuous_scale= 'RdBu',\n",
    "                            title='US 2020 Elections'\n",
    "                            )\n",
    "fig.write_image('biden_percent.png', scale = 10)"
   ]
  },
  {
   "cell_type": "code",
   "execution_count": null,
   "id": "64ddf458",
   "metadata": {},
   "outputs": [],
   "source": [
    "# \n",
    "fig = px.choropleth(df, locations = 'State_code',\n",
    "                            locationmode = 'USA-states',\n",
    "                            scope = 'usa',\n",
    "                            color = 'Median Household Income',\n",
    "                            hover_name = 'state',\n",
    "                            hover_data = ['Trump_votes', 'Biden_votes', 'Trump_percent', 'Biden_percent'],\n",
    "                            range_color = [30000, 100000],\n",
    "                            color_continuous_scale= 'RdBu',\n",
    "                            title = 'US 2020 Median Incomes - Embedded Voting Habits'\n",
    "                            )\n",
    "fig.write_image('household.png', scale = 10)\n",
    "\n",
    "# Looking at these two plots you can see that the states with the higher median\n",
    "# incomes were less likely to vote for trump"
   ]
  },
  {
   "cell_type": "code",
   "execution_count": null,
   "id": "af68623b",
   "metadata": {},
   "outputs": [],
   "source": [
    "max(df['All-age Poverty Rate'])"
   ]
  },
  {
   "cell_type": "code",
   "execution_count": null,
   "id": "b42d4736",
   "metadata": {},
   "outputs": [],
   "source": [
    "# \n",
    "fig = px.choropleth(df, locations = 'State_code',\n",
    "                            locationmode = 'USA-states',\n",
    "                            scope = 'usa',\n",
    "                            color = 'All-age Poverty Rate',\n",
    "                            hover_name = 'state',\n",
    "                            hover_data = ['Trump_votes', 'Biden_votes', 'Trump_percent', 'Biden_percent'],\n",
    "                            range_color = [5, 20],\n",
    "                            color_continuous_scale= 'RdBu',\n",
    "                            title = 'US 2020 Poverty Rate'\n",
    "                            )\n",
    "\n",
    "fig.write_image('poverty.png', scale = 10)\n",
    "\n",
    "# Looking at these two plots you can see that the states with the higher median\n",
    "# incomes were less likely to vote for trump"
   ]
  },
  {
   "cell_type": "code",
   "execution_count": null,
   "id": "f487abb2",
   "metadata": {},
   "outputs": [],
   "source": [
    "Trump_votes_scaled = df[\"Trump_votes\"] / df[\"2020 pop.\"]\n",
    "df4 = pd.DataFrame(Trump_votes_scaled, columns=['Trump_votes_scaled']) \n",
    "df4 = df.join(df4, lsuffix = '_df', rsuffix = '_df4')\n",
    "# df4.head()\n",
    "#\n",
    "fig = px.density_heatmap(df4, x = \"Biden_percent\", y = \"Median Household Income\",  marginal_x = \"histogram\", marginal_y = \"histogram\")\n",
    "fig.write_image('heatmapB.png', scale = 10)\n",
    "\n",
    "# This plot suggests that the most likely trump supporters are from mid-low median income states."
   ]
  },
  {
   "cell_type": "code",
   "execution_count": null,
   "id": "0dcf78fd",
   "metadata": {},
   "outputs": [],
   "source": [
    "# \n",
    "fig = px.density_heatmap(df4, x = \"Trump_votes_scaled\", y = \"All-age Poverty Rate\",  marginal_x = \"histogram\", marginal_y = \"histogram\")\n",
    "fig.show()\n",
    "\n",
    "# This plot seems initally, counterfactual to the previous as you would\n",
    "# expect the states with poorer median income to be the ones with higher rates of unemployment"
   ]
  },
  {
   "cell_type": "code",
   "execution_count": null,
   "id": "954abd9b",
   "metadata": {},
   "outputs": [],
   "source": [
    "#\n",
    "fig = px.density_heatmap(df4, x = \"Trump_votes_scaled\", y = \"Percentage of White\",  marginal_x = \"histogram\", marginal_y = \"histogram\")\n",
    "fig.show()\n",
    "\n",
    "# You can produce plots for all races but you see that the states that\n",
    "# are actually causing this voting pattern are those that have high rates\n",
    "# of unemployment among people who identify as white.  "
   ]
  },
  {
   "cell_type": "code",
   "execution_count": null,
   "id": "42ea7554",
   "metadata": {},
   "outputs": [],
   "source": [
    "# Lets break this down a bit further and take a look at all races given\n",
    "#\n",
    "race = ['Percentage of Hispanic or Latino', 'Percentage of White', \n",
    "        'Percentage of Black or African American', \n",
    "        'Percentage of American Indian and Alaska Native',\n",
    "        'Percentage of Asian', 'Percentage of Native Hawaiian and Other Pacific Islander',\n",
    "        'Percentage of Some Other Race', 'Percentage of Population of Two or More Race']\n",
    "        \n",
    "for i in range(0,7):\n",
    "    fig = px.bar(df, x = \"state\", y = \"Trump_percent\", color = race[i])\n",
    "    fig.show()\n",
    "    \n",
    "# Clearly there is not a vast amout of data avaliable for some states\n",
    "# for certain minorities. However, if you look particularly at the\n",
    "# unemployment percentages of caucasians and african americans specifically,\n",
    "# there is more of a pattern that white unemployment rates had an effect on\n",
    "# voting for Trump than was the case for African American voters."
   ]
  },
  {
   "cell_type": "code",
   "execution_count": null,
   "id": "a7fe0d1c",
   "metadata": {},
   "outputs": [],
   "source": [
    "import requests\n",
    "import pandas as pd\n",
    "from bs4 import BeautifulSoup\n",
    "\n",
    "urlMain = 'https://statisticalatlas.com/place/United-States/Overview'\n",
    "urlAttainment = 'https://statisticalatlas.com/zip/{}/Educational-Attainment'\n",
    "urlIncome = 'https://statisticalatlas.com/United-States/Household-Income'\n",
    "urlRace = 'https://statisticalatlas.com/United-States/Race-and-Ethnicity'\n",
    "\n",
    "\n",
    "def getPercentages(url):\n",
    "    res = requests.get(url)\n",
    "    if res.status_code == 200:\n",
    "        soup = BeautifulSoup(res.content, \"lxml\")\n",
    "        percentages = soup.select('[id=\"figure/educational-attainment\"] rect title')\n",
    "        percentages = [percentages[0].text,percentages[2].text,percentages[4].text]\n",
    "        return percentages\n",
    "    else:\n",
    "        print(res.status_code, url)\n",
    "        return []\n",
    "\n",
    "def getCodes(url):\n",
    "    res = requests.get(url)\n",
    "    soup = BeautifulSoup(res.content, \"lxml\")\n",
    "    codes = [code.text for code in soup.select('.info-table-contents-div a[href*=zip]')]\n",
    "    return codes\n",
    "\n",
    "results = []\n",
    "\n",
    "with requests.Session() as s:\n",
    "    zipcodes = getCodes(urlMain)\n",
    "\n",
    "    for zipcode in zipcodes:\n",
    "        try:\n",
    "            row = getPercentages(urlAttainment.format(zipcode))\n",
    "            row.insert(0, zipcode)\n",
    "            results.append(row)\n",
    "        except IndexError as ex:\n",
    "            print(ex,urlAttainment.format(zipcode))\n",
    "df = pd.DataFrame(results,columns=['zipcode', 'HD', 'HS', 'NoHS'])\n",
    "print(df)"
   ]
  },
  {
   "cell_type": "code",
   "execution_count": null,
   "id": "cb485725",
   "metadata": {},
   "outputs": [],
   "source": [
    "df.head()"
   ]
  },
  {
   "cell_type": "code",
   "execution_count": null,
   "id": "b9d7a17c",
   "metadata": {},
   "outputs": [],
   "source": [
    "len(df['zipcode'])"
   ]
  },
  {
   "cell_type": "code",
   "execution_count": null,
   "id": "cea1de4f",
   "metadata": {},
   "outputs": [],
   "source": [
    "from uszipcode import SearchEngine, SimpleZipcode\n",
    "search = SearchEngine()\n",
    "\n",
    "def zco(x):\n",
    "    city = search.by_zipcode(x).state\n",
    "    return city if city else 'None'\n",
    "\n",
    "df['state'] = df['zipcode'].apply(zco)"
   ]
  },
  {
   "cell_type": "code",
   "execution_count": null,
   "id": "ae6cdb58",
   "metadata": {},
   "outputs": [],
   "source": [
    "df.head()"
   ]
  },
  {
   "cell_type": "code",
   "execution_count": null,
   "id": "87baa73c",
   "metadata": {},
   "outputs": [],
   "source": [
    "df.plot.bar(x = 'state', y = ['Biden_percent','Trump_percent'],figsize=(15,5))\n",
    "plt.savefig('fig1.png', bbox_inches=\"tight\", dpi=1000)\n",
    "\n",
    "df.plot.bar(x = 'state', y = ['Percentage of White','Trump_percent'],figsize=(15,5))\n",
    "plt.savefig('fig2.png', bbox_inches=\"tight\", dpi=1000)\n",
    "\n",
    "df.plot.bar(x = 'state', y = ['Percentage of Black or African American','Trump_percent'],figsize=(15,5))\n",
    "plt.savefig('fig3.png', bbox_inches=\"tight\", dpi=1000)"
   ]
  },
  {
   "cell_type": "code",
   "execution_count": null,
   "id": "c0d1d81f",
   "metadata": {},
   "outputs": [],
   "source": [
    "import seaborn as sns\n",
    "\n",
    "sns.barplot(x = 'state', y = 'Biden_percent', data = df)"
   ]
  }
 ],
 "metadata": {
  "kernelspec": {
   "display_name": "Python 3 (ipykernel)",
   "language": "python",
   "name": "python3"
  },
  "language_info": {
   "codemirror_mode": {
    "name": "ipython",
    "version": 3
   },
   "file_extension": ".py",
   "mimetype": "text/x-python",
   "name": "python",
   "nbconvert_exporter": "python",
   "pygments_lexer": "ipython3",
   "version": "3.10.9"
  },
  "varInspector": {
   "cols": {
    "lenName": 16,
    "lenType": 16,
    "lenVar": 40
   },
   "kernels_config": {
    "python": {
     "delete_cmd_postfix": "",
     "delete_cmd_prefix": "del ",
     "library": "var_list.py",
     "varRefreshCmd": "print(var_dic_list())"
    },
    "r": {
     "delete_cmd_postfix": ") ",
     "delete_cmd_prefix": "rm(",
     "library": "var_list.r",
     "varRefreshCmd": "cat(var_dic_list()) "
    }
   },
   "types_to_exclude": [
    "module",
    "function",
    "builtin_function_or_method",
    "instance",
    "_Feature"
   ],
   "window_display": false
  }
 },
 "nbformat": 4,
 "nbformat_minor": 5
}
